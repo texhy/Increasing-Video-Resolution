{
 "cells": [
  {
   "cell_type": "code",
   "execution_count": null,
   "metadata": {},
   "outputs": [],
   "source": [
    "import cv2\n",
    "import os\n",
    "import numpy as np\n",
    "from matplotlib import pyplot as plt\n",
    "frames = []\n",
    "video = cv2.VideoCapture(r\"C:\\Users\\mhass\\Desktop\\3rd Semester\\Programming with AI\\A5\\Q1.mp4\")\n",
    "#we have the frame stored in frames list\n",
    "#test on first frame\n",
    "if not video.isOpened():\n",
    "    print(\"Error: Could not open video file\")\n",
    "    exit()\n",
    "\n",
    "while True:\n",
    "    suc, frame = video.read()\n",
    "    if not suc:\n",
    "        break\n",
    "    frames.append(frame)\n",
    "    \n",
    "video.release()"
   ]
  },
  {
   "cell_type": "code",
   "execution_count": null,
   "metadata": {},
   "outputs": [],
   "source": [
    "plt.imshow(frames[6])\n",
    "w,h,_=frames[6].shape\n",
    "# cv2.namedWindow(\"Resized Window\", cv2.WINDOW_NORMAL)\n",
    "# cv2.resizeWindow(\"Resized Window\",1920,900)\n",
    "# cv2.imshow('Resized Window', frames[6])\n",
    "# cv2.waitKey(0)\n",
    "# cv2.destroyAllWindows()"
   ]
  },
  {
   "cell_type": "code",
   "execution_count": null,
   "metadata": {},
   "outputs": [],
   "source": [
    "near_img = cv2.resize(frames[6], (h*2,w*2) , interpolation = cv2.INTER_NEAREST)\n",
    "bilinear_img = cv2.resize(frames[6], (h*2,w*2), interpolation = cv2.INTER_LINEAR)\n",
    "bicubic_img = cv2.resize(frames[6], (h*2,w*2), interpolation = cv2.INTER_CUBIC)\n",
    "\n",
    "fig = plt.figure(figsize=(8, 6))\n",
    "ax = fig.subplots(2, 2)\n",
    "\n",
    "ax[0,0].imshow(frames[6])\n",
    "ax[0,0].set_title('orginal')\n",
    "\n",
    "ax[0,1].imshow(near_img)\n",
    "ax[0,1].set_title('near')\n",
    "\n",
    "ax[1,0].imshow(bilinear_img)\n",
    "ax[1,0].set_title('bilinear_img')\n",
    "\n",
    "ax[1,1].imshow(bicubic_img)\n",
    "ax[1,1].set_title('bicubic_img')\n",
    "\n",
    "plt.tight_layout()\n",
    "fig.suptitle('Comparing')\n"
   ]
  },
  {
   "cell_type": "code",
   "execution_count": null,
   "metadata": {},
   "outputs": [],
   "source": [
    "#making it into a video image\n",
    "def nearest(frame):\n",
    "    new_frame= cv2.resize(frame, (h*2,w*2) , interpolation = cv2.INTER_NEAREST)\n",
    "    return new_frame\n",
    "\n",
    "def bilinear(frame):\n",
    "    new_frame= cv2.resize(frame, (h*2,w*2) , interpolation = cv2.INTER_LINEAR)\n",
    "    return new_frame\n",
    "\n",
    "def bicubic(frame):\n",
    "    new_frame= cv2.resize(frame, (h*2,w*2) , interpolation = cv2.INTER_CUBIC)\n",
    "    return new_frame\n",
    "near_frames = []\n",
    "bilenear_frames = []\n",
    "bicubic_frames = []\n",
    "for frame in frames:\n",
    "    near_frames.append(nearest(frame))\n",
    "    bilenear_frames.append(bilinear(frame))\n",
    "    bicubic_frames.append(bicubic(frame))\n",
    "\n",
    "width,height,_ = near_frames[0].shape\n",
    "\n",
    "\n",
    "# converting into videos \n",
    "fourcc = cv2.VideoWriter_fourcc(*'mp4v')  \n",
    "out = cv2.VideoWriter('nearest.mp4',fourcc, 25.0, (height,width))\n",
    "for frame in near_frames:\n",
    "    out.write(frame)\n",
    "\n",
    "out.release()\n",
    "\n",
    "out = cv2.VideoWriter('bilinear.mp4',fourcc, 25.0, (height,width))\n",
    "for frame in bilenear_frames:\n",
    "    out.write(frame)\n",
    "out.release()\n",
    "\n",
    "out = cv2.VideoWriter('bicubic.mp4',fourcc, 25.0, (height,width))\n",
    "for frame in bicubic_frames:\n",
    "    out.write(frame)\n",
    "out.release()\n"
   ]
  },
  {
   "cell_type": "code",
   "execution_count": null,
   "metadata": {},
   "outputs": [],
   "source": []
  },
  {
   "cell_type": "markdown",
   "metadata": {},
   "source": []
  }
 ],
 "metadata": {
  "language_info": {
   "name": "python"
  }
 },
 "nbformat": 4,
 "nbformat_minor": 2
}
